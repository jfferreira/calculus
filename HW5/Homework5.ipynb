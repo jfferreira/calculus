{
 "cells": [
  {
   "cell_type": "markdown",
   "metadata": {},
   "source": [
    "# Advanced Calculus with Financial Engineering Applications - Homework 5\n",
    "### *Jose Ferreira*"
   ]
  },
  {
   "cell_type": "markdown",
   "metadata": {},
   "source": [
    "---------------------------------------------------------------------------------------\n",
    "**1. Use Newton’s method to find the yield of a three year semiannual coupon bond with 4% coupon rate and price 101.** \n",
    "**What are the modified duration and the convexity of the bond?**"
   ]
  },
  {
   "cell_type": "markdown",
   "metadata": {},
   "source": [
    "The price of a bond, with compounding interest frequency of m times a year, is given by: \n",
    "$$B = \\sum_{i=1}^{n} c_i \\left(1+ \\frac{y}{m}\\right)^{-mt_i}$$\n",
    "And therefore, to calculate yield, we need to find a zero for the function: \n",
    "$$f(y) = \\sum_{i=1}^{n} c_i \\left(1+ \\frac{y}{m}\\right)^{-mt_i} - B$$\n",
    "Which has derivative equal to: \n",
    "$$f'(y) = -\\sum_{i=1}^{n} t_ic_i \\left(1+ \\frac{y}{m}\\right)^{-mt_i-1}$$\n",
    "The recursion formula to use with Newton's method is, then: \n",
    "$$y_{k+1} = y_k - {f(y_k) \\over f'(y_k)} = y_{k} + {\\sum_{i=1}^{n} c_i \\left(1+ \\frac{y_k}{m}\\right)^{-mt_i} - B \\over \\sum_{i=1}^{n} t_ic_i \\left(1+ \\frac{y}{m}\\right)^{-mt_i-1} }$$\n",
    "We can calculate the bond duration and convexity as:\n",
    "\n",
    "\\begin{align}\n",
    "D = -\\left(\\frac{1}{B}\\right)f'(y) &= \\left(\\frac{1}{B}\\right)\\sum_{i=1}^{n} t_ic_i \\left(1+ \\frac{y}{m}\\right)^{-mt_i-1}\\\\\n",
    "C = \\left(\\frac{1}{B}\\right)f''(y) &= \\left(\\frac{1}{B}\\right)\\sum_{i=1}^{n} t_ic_i \\left(t_i+ \\frac{1}{m}\\right)\\left(1+ \\frac{y}{m}\\right)^{-mt_i-2}\\\\\n",
    "\\end{align}\n"
   ]
  },
  {
   "cell_type": "code",
   "execution_count": 3,
   "metadata": {},
   "outputs": [],
   "source": [
    "import numpy as np\n",
    "\n",
    "def bond_yield(price, cf_times, cf_values, freq, x0, tol):\n",
    "    x_new = x0\n",
    "    x_old = x0 - 1\n",
    "    while np.abs(x_new - x_old) > tol:\n",
    "        x_old = x_new\n",
    "        p_k, d_k, _ = bond_price_duration_convexity(x_old, cf_times, cf_values, freq)\n",
    "        # the derivative of the price function differs by factor 1/B from duration    \n",
    "        derivative_term = d_k*p_k \n",
    "        x_new = x_old + (p_k - price)/derivative_term\n",
    "        print(\"|\" + str(x_new) + \"\\t|\" + str(np.abs(x_new - x_old)) + \"\\t|\")\n",
    "    return x_new"
   ]
  },
  {
   "cell_type": "code",
   "execution_count": 4,
   "metadata": {
    "collapsed": true
   },
   "outputs": [],
   "source": [
    "def bond_price_duration_convexity(yield_k, cf_times, cf_values, freq):\n",
    "    n = np.minimum(len(cf_times), len(cf_values))\n",
    "    B = 0\n",
    "    D = 0\n",
    "    C = 0\n",
    "    for i in range(0, n):\n",
    "        B = B + cf_values[i]*(1+(yield_k/freq))**(-freq*cf_times[i])\n",
    "        D = D + cf_times[i]\\\n",
    "                *cf_values[i]\\\n",
    "                *(1+(yield_k/freq))**(-freq*cf_times[i]-1)\n",
    "        C = C + cf_times[i]\\\n",
    "                *cf_values[i]\\\n",
    "                *(cf_times[i] + 1/freq)\\\n",
    "                *(1+(yield_k/freq))**(-freq*cf_times[i]-2)\n",
    "    return B, D/B, C/B"
   ]
  },
  {
   "cell_type": "code",
   "execution_count": 5,
   "metadata": {},
   "outputs": [
    {
     "name": "stdout",
     "output_type": "stream",
     "text": [
      "Yield - Intermediate values\n",
      "\n",
      "|Estimation\t\t|Tolerance\t\t|\n",
      "-------------------------------------------------\n",
      "|0.036137186823403195\t|0.0138628131766\t|\n",
      "|0.03645067085119867\t|0.000313484027795\t|\n",
      "|0.03645083711230677\t|1.66261108096e-07\t|\n",
      "|0.036450837112353196\t|4.6428139111e-14\t|\n",
      "=================================================\n",
      "\n",
      "Yield = 0.036450837112353196\n",
      "Modified Duration = 2.8064296479886104\n",
      "Convexity = 9.488341645714605\n"
     ]
    }
   ],
   "source": [
    "B = 101\n",
    "t_cf = [0.5, 1, 1.5, 2, 2.5, 3]\n",
    "v_cf = [2, 2, 2, 2, 2, 102]\n",
    "tol = 1e-12\n",
    "x0 = 0.05\n",
    "freq = 2\n",
    "\n",
    "print (\"Yield - Intermediate values\")\n",
    "\n",
    "print (\"\\n|Estimation\\t\\t|Tolerance\\t\\t|\")\n",
    "print (\"-------------------------------------------------\")\n",
    "yld = bond_yield(B, t_cf, v_cf, freq, x0, tol)\n",
    "print (\"=================================================\")\n",
    "print (\"\\nYield = \" + str(yld))\n",
    "price, duration, convexity = bond_price_duration_convexity(yld, t_cf, v_cf, freq)\n",
    "print (\"Modified Duration = \" + str(duration))\n",
    "print (\"Convexity = \" + str(convexity))"
   ]
  },
  {
   "cell_type": "markdown",
   "metadata": {},
   "source": [
    "---------------------------------------------------------------------------------------\n",
    "**2. (i) Find the yield of a 25 months semiannual coupon bond with coupon rate 3.5%, if the risk–free zero rate curve is \n",
    "$$r(0, t) = 0.015 + \\frac{t}{100 + \\sqrt{1+t^2}}$$**"
   ]
  },
  {
   "cell_type": "markdown",
   "metadata": {},
   "source": [
    "We can calculate the price of the bond with equation:\n",
    "\n",
    "\\begin{align}\n",
    "B = \\sum_{i=1}^{n} c_i \\left(1+ \\frac{r_m(0, t_i)}{m}\\right)^{-mt_i} &&\\tag{2.70 - textbook}\n",
    "\\end{align}\n",
    "\n",
    "Assuming the r(0,t) given is for continuous compounding, we can obtain $r_m(0, t_i)$ from:\n",
    "\n",
    "\\begin{align}\n",
    "r_m(0,t) & = m\\left(exp\\left(\\frac{r_{cont}(0,t)}{m}\\right) - 1\\right) &&\\tag{2.63 - textbook}\\\\\n",
    "& = 2\\left(exp\\left(\\frac{0.015 + \\frac{t}{100 + \\sqrt{1+t^2}}}{2}\\right) - 1\\right) &&\\tag{m=2}\\\\\n",
    "& = 2\\left(exp\\left(0.0075 + \\frac{t}{2(100 + \\sqrt{1+t^2})}\\right) - 1\\right) \\\\\n",
    "\\end{align}\n",
    "\n",
    "Once $B$, the price of the bond, is known, the yield can be obtained using the methods from point 1."
   ]
  },
  {
   "cell_type": "code",
   "execution_count": 6,
   "metadata": {},
   "outputs": [],
   "source": [
    "def zero_rate(t, m):\n",
    "    fraction = t/(m*(100 + np.sqrt(1 + t**2)))\n",
    "    return m*(np.exp(0.0075 + fraction)-1)\n",
    "\n",
    "def bond_price_from_zero_rate(v_cf, t_cf, freq, zero_rate):\n",
    "    n = np.minimum(len(v_cf), len(t_cf))\n",
    "    B = 0\n",
    "    for i in range(0, n):\n",
    "        B = B + v_cf[i]*(1 + zero_rate(t_cf[i], freq)/freq)**(-freq*t_cf[i])\n",
    "    return B    "
   ]
  },
  {
   "cell_type": "code",
   "execution_count": 7,
   "metadata": {},
   "outputs": [
    {
     "name": "stdout",
     "output_type": "stream",
     "text": [
      "\n",
      "Yield - Intermediate values\n",
      "|Estimation\t\t|Tolerance\t\t|\n",
      "-------------------------------------------------\n",
      "|0.0354361030136\t|0.000436103013568\t|\n",
      "|0.0354363423313\t|2.393177502e-07\t|\n",
      "|0.0354363423314\t|7.16648962396e-14\t|\n",
      "\n",
      "Price = 101.369304142\n",
      "Yield = 0.0354363423314\n"
     ]
    }
   ],
   "source": [
    "t_cf = [1/12, 7/12, 13/12, 19/12, 25/12] # 25-month semiannual cashflow time periods\n",
    "v_cf = [1.75, 1.75, 1.75, 1.75, 101.75] # coupon = 3.5% \n",
    "tol = 1e-12\n",
    "x0 = 0.035\n",
    "freq = 2\n",
    "\n",
    "price = bond_price_from_zero_rate(v_cf, t_cf, freq, zero_rate)\n",
    "print (\"\\nYield - Intermediate values\")\n",
    "print (\"|Estimation\\t\\t|Tolerance\\t\\t|\")\n",
    "print (\"-------------------------------------------------\")\n",
    "estimated_yield = bond_yield(price, t_cf, v_cf, freq, x0, tol)\n",
    "\n",
    "print (\"\\nPrice = \" + str(price))\n",
    "print (\"Yield = \" + str(estimated_yield))"
   ]
  },
  {
   "cell_type": "markdown",
   "metadata": {},
   "source": [
    "**(ii) What are the modified duration and convexity of the bond?**"
   ]
  },
  {
   "cell_type": "code",
   "execution_count": 6,
   "metadata": {},
   "outputs": [
    {
     "name": "stdout",
     "output_type": "stream",
     "text": [
      "Modified Duration = 1.961946619757132\n",
      "Convexity = 4.928656560190025\n"
     ]
    }
   ],
   "source": [
    "_, duration, convexity = bond_price_duration_convexity(estimated_yield, t_cf, v_cf, freq)\n",
    "print (\"Modified Duration = \" + str(duration))\n",
    "print (\"Convexity = \" + str(convexity))"
   ]
  },
  {
   "cell_type": "markdown",
   "metadata": {},
   "source": [
    "---------------------------------------------------------------------------------------\n",
    "**3. Consider a call option with strike K and maturity T, on a lognormally distributed underlying asset with spot price S, volatility σ, and paying dividends continuously at rate q. Assume that the risk–free interest rates are constant equal to r.** \n",
    "\n",
    "\n",
    "**(i) Finding the value of the strike price such that the $\\Delta$ of the call is 0.5 requires solving**\n",
    "\n",
    "\\begin{align}\n",
    "\\Delta(C) = e^{-qT}N(d_1) = \\frac{1}{2} &&\\tag{1}\n",
    "\\end{align}\n",
    "\n",
    "**for K, where N(x) be the cumulative density of the standard normal variable and\n",
    "$$d_1 = \\frac{ln\\left(\\frac{S}{K}\\right) + \\left(r - q + \\frac{\\sigma^2}{2}\\right)T}{\\sigma\\sqrt{T}}$$\n",
    "Write down the Newton’s method recursion for solving (1) for K.**"
   ]
  },
  {
   "cell_type": "markdown",
   "metadata": {},
   "source": [
    "We need to find a zero for the function: \n",
    "$$f(k) = e^{-qT}N(d_1(k)) - \\frac{1}{2}$$\n",
    "\n",
    "The derivative of $f(k)$ is equal to: \n",
    "\n",
    "\\begin{align}\n",
    "f'(k) = \\frac{\\partial \\Delta(C(k))}{\\partial K} & = e^{-qT}N'(d_1(k))\\frac{\\partial d_1(k)}{\\partial K} \\\\\n",
    "& = -\\frac{1}{K\\sigma\\sqrt{2\\pi T}}e^{-qT-\\frac{d_1^2}{2}}\\\\\n",
    "\\end{align}\n",
    "\n",
    "The recursion formula to use with Newton's method is, then: \n",
    "\n",
    "\\begin{align}\n",
    "k_{i+1} & = k_i - {f(k_i) \\over f'(k_i)}\\\\\n",
    "& = k_{i} + \\frac{e^{-qT}N(d_1(k)) - \\frac{1}{2}}{\\frac{1}{K\\sigma\\sqrt{2\\pi T}}e^{-qT-\\frac{d_1^2}{2}}}\\\\\n",
    "& = k_i + \\sqrt{2\\pi T}K\\sigma e^{\\frac{d_1^2}{2} + qT}\\left(e^{-qT}N(d_1) - \\frac{1}{2}\\right)\\\\\n",
    "\\end{align}\n",
    "\n",
    "where \n",
    "$$d1 = \\frac{ln\\left(\\frac{S}{K}\\right) + \\left(r - q + \\frac{\\sigma^2}{2}\\right)T}{\\sigma\\sqrt{T}}$$"
   ]
  },
  {
   "cell_type": "markdown",
   "metadata": {},
   "source": [
    "**(ii) Consider a lognormally distributed asset with spot price 30, volatility 30%, and paying 1% dividends continuously.\n",
    "Assume that the risk–free interest rates are constant equal to 2.5%. Find the strike at which the $\\Delta $ of a three months call on this asset is 0.5. \n",
    "Start with an ATM strike and use Newton’s method with tol = 10−6. \n",
    "Report all intermediate values from Newton’s method.**"
   ]
  },
  {
   "cell_type": "code",
   "execution_count": 7,
   "metadata": {},
   "outputs": [],
   "source": [
    "def cdf_normal(t):\n",
    "    z = np.abs(t)\n",
    "    y = 1/(1 + 0.2316419*z)\n",
    "    a1 = 0.31938153\n",
    "    a2 = -0.356563782\n",
    "    a3 = 1.781477937\n",
    "    a4 = -1.821255978\n",
    "    a5 = 1.330274429\n",
    "    m = 1 - np.exp(-t**2/2)\\\n",
    "            *(a1*y + a2*y**2 + a3*y**3 + a4*y**4 + a5*y**5)/np.sqrt(2*np.pi)\n",
    "    if t > 0:\n",
    "        return m\n",
    "    else:\n",
    "        return 1 - m\n",
    "\n",
    "def delta(S, K, T, sigma, r, q):\n",
    "    d1 = (np.log(S/K) + (r-q+sigma**2/2)*T)/(sigma*np.sqrt(T))\n",
    "    return np.exp(-q*T)*cdf_normal(d1)\n",
    "\n",
    "def d_delta_k(S, K, T, sigma, r, q):\n",
    "    d1 = (np.log(S/K) + (r-q+sigma**2/2)*T)/(sigma*np.sqrt(T))\n",
    "    return np.exp(-q*T - d1**2/2)/(K*sigma*np.sqrt(2*np.pi*T))\n",
    "\n",
    "def find_call_strike_half_delta(S, T, sigma, r, q, tol):\n",
    "    x0 = S\n",
    "    x_new = x0\n",
    "    x_old = x0 - 1\n",
    "    while np.abs(x_new - x_old) > tol:\n",
    "        x_old = x_new\n",
    "        x_new = x_new + (delta(S, x_new, T, sigma, r, q) - 1/2)\\\n",
    "                        /d_delta_k(S, x_new, T, sigma, r, q)\n",
    "        print(\"|%.12f|%.12f\\t|\"%(x_new, np.abs(x_new - x_old)))\n",
    "    return x_new"
   ]
  },
  {
   "cell_type": "code",
   "execution_count": 8,
   "metadata": {},
   "outputs": [
    {
     "name": "stdout",
     "output_type": "stream",
     "text": [
      "Strike for half call delta - Newton's method\n",
      "|Estimation\t|Tolerance\t|\n",
      "---------------------------------\n",
      "|30.437315485006|0.437315485006\t|\n",
      "|30.439064561337|0.001749076330\t|\n",
      "|30.439064600067|0.000000038730\t|\n",
      "\n",
      "Strike = 30.4390646001\n"
     ]
    }
   ],
   "source": [
    "S = 30\n",
    "sigma = 0.3\n",
    "q = 0.01\n",
    "r = 0.025\n",
    "T = 0.25\n",
    "tol = 1e-6\n",
    "print(\"Strike for half call delta - Newton's method\")\n",
    "print (\"|Estimation\\t|Tolerance\\t|\")\n",
    "print (\"---------------------------------\")\n",
    "strike = find_call_strike_half_delta(S, T, sigma, r, q, tol)\n",
    "print (\"\\nStrike = \" + str(strike))"
   ]
  },
  {
   "cell_type": "code",
   "execution_count": 9,
   "metadata": {},
   "outputs": [
    {
     "name": "stdout",
     "output_type": "stream",
     "text": [
      "Delta = 0.5\n"
     ]
    }
   ],
   "source": [
    "#Test that indeed the delta of the call for the strike found is 0.5\n",
    "delta_test = delta(S, strike, T, sigma, r, q)\n",
    "print (\"Delta = \" + str(delta_test))"
   ]
  },
  {
   "cell_type": "markdown",
   "metadata": {},
   "source": [
    "---------------------------------------------------------------------------------------\n",
    "#### 4.  Use bootstrapping to obtain a zero rate curve given the prices of the following semiannual coupon bonds:\n",
    "| Maturity | Coupon Rate | Price |\n",
    "|----------|-------------|-------|\n",
    "| 6 months | 0           | 97.5  |\n",
    "| 1 year   | 5           | 100   |\n",
    "| 3 years  | 5           | 102   |\n",
    "| 5 years  | 6           | 104   |\n",
    "#### Assume that the overnight rate is 5%. \n",
    "#### Report the zero rates corresponding to each cash flow date; include the overnight rate.\n",
    "#### For the Newton’s methods corresponding to the 3–year bond, report the iteration counts and every approximate value. The stopping criterion for each Newton’s method is that two consecutive approximations are within 10−6 of each other, and the initial guess is x0 = 0.05."
   ]
  },
  {
   "cell_type": "markdown",
   "metadata": {},
   "source": [
    "For a zero coupon bond the expression that allows us to determine the 6-months rate is:\n",
    "$$B = 100e^{-t r(0,t)}$$\n",
    "In the case of the first bond: \n",
    "$$97.5 = 100e^{-0.5 r(0, 0.5)}$$\n",
    "$$r(0,0.5) = 2\\log{\\frac{100}{97.5}} \\approx 0.05063561596858$$ "
   ]
  },
  {
   "cell_type": "markdown",
   "metadata": {},
   "source": [
    "For the 1-year bond:\n",
    "\n",
    "$$100 = 2.5e^{-0.5 r(0,0.5)} + 102.5e^{-r(0,1)}$$\n",
    "\n",
    "$$r(0,1) \\approx 0.04936960030281$$ "
   ]
  },
  {
   "cell_type": "markdown",
   "metadata": {},
   "source": [
    "For the 3-year bond, the equation is:\n",
    "\n",
    "\\begin{align}\n",
    "102 =& 2.5e^{-0.5r(0,0.5)}\\\\\n",
    "&+ 2.5e^{-r(0,1)}\\\\ \n",
    "&+ 2.5e^{-1.5r(0,1.5)}\\\\ \n",
    "&+ 2.5e^{-2r(0,2)}\\\\ \n",
    "&+ 2.5e^{-2.5r(0,2.5)}\\\\ \n",
    "&+ 102.5e^{-3r(0,3)} \\tag 1      \n",
    "\\end{align}"
   ]
  },
  {
   "cell_type": "markdown",
   "metadata": {},
   "source": [
    "Assuming rates are linear in the t=[1,3] interval and therefore:\n",
    "\n",
    "\\begin{align}\n",
    "r(0,t) = \\left(\\frac{t-1}{2}\\right)r(0,3) + \\left(\\frac{3-t}{2}\\right)r(0,1) &&\\forall 1\\leq t\\leq 3\\\\\n",
    "\\end{align}\n",
    "\n",
    "We can express (1) in terms of the known rates r(0,0.5), r(0,1) and the unknown r(0,3) using:\n",
    "\n",
    "\\begin{align}\n",
    "r(0,1.5) = \\frac{1}{4}r(0,3) + \\frac{3}{4}r(0,1);\\\\ \n",
    "r(0,2) = \\frac{1}{2}(r(0,3) + r(0,1));\\\\ \n",
    "r(0,2.5) = \\frac{3}{4}r(0,3) + \\frac{1}{4}r(0,1)\\\\\n",
    "\\end{align}\n"
   ]
  },
  {
   "cell_type": "markdown",
   "metadata": {},
   "source": [
    "And we can try solving the non-linear equation resulting from replacing these intermediate values using the Newton's method:\n",
    "\n",
    "\\begin{align}\n",
    "f(x) =& 2.5e^{-0.5r(0,0.5)}\\\\ \n",
    "&+ 2.5e^{-r(0,1)}\\\\ \n",
    "&+ 2.5e^{-1.5(\\frac{1}{4}x + \\frac{3}{4}r(0,1))}\\\\ \n",
    "&+ 2.5e^{-2(\\frac{1}{2}(x + r(0,1)))}\\\\ \n",
    "&+ 2.5e^{-2.5(\\frac{3}{4}x + \\frac{1}{4}r(0,1))}\\\\ \n",
    "&+ 102.5e^{-3x}\\\\ \n",
    "&- 102; && \\tag{$x = r(0,3)$}\\\\ \n",
    "\\end{align}\n",
    "\n",
    "\\begin{align}\n",
    "f'(x) =& -\\frac{2.5*1.5}{4}e^{-1.5(\\frac{1}{4}x + \\frac{3}{4}r(0,1))}\\\\ \n",
    "&- 2.5e^{-(x + r(0,1))}\\\\ \n",
    "&- \\frac{2.5*2.5*3}{4}e^{-2.5(\\frac{3}{4}x + \\frac{1}{4}r(0,1))}\\\\  \n",
    "&- (102.5*3)e^{-3x}\\\\\n",
    "\\end{align}"
   ]
  },
  {
   "cell_type": "code",
   "execution_count": 10,
   "metadata": {},
   "outputs": [],
   "source": [
    "def f(x, r_0_5, r_1, c):\n",
    "    t1 = c*np.exp(-0.5*r_0_5)\n",
    "    t2 = c*np.exp(-r_1)\n",
    "    t3 = c*np.exp(-1.5*((x/4) + ((3*r_1)/4)))\n",
    "    t4 = c*np.exp(-(x + r_1))\n",
    "    t5 = c*np.exp(-2.5*(((3*x)/4) + (r_1/4)))\n",
    "    t6 = (100 + c)*np.exp(-3*x)\n",
    "    return t1 + t2 + t3 + t4 + t5 + t6\n",
    "\n",
    "def f_prime(x, r_1, c):\n",
    "    t1 = -(c*1.5/4)*np.exp(-1.5*((x/4) + ((3*r_1)/4)))\n",
    "    t2 = -c*np.exp(-(x + r_1))\n",
    "    t3 = -(c*2.5*3/4)*np.exp(-2.5*(((3*x)/4) + (r_1/4)))\n",
    "    t4 = -(100 + c)*3*np.exp(-3*x)\n",
    "    return t1 + t2 + t3 + t4    \n",
    "\n",
    "def bootstrap_three_yr(r_0_5, r_1, c, price, x0, tol):\n",
    "    x_new = x0\n",
    "    x_old = 0\n",
    "    while np.abs(x_new - x_old) > tol:\n",
    "        x_old = x_new\n",
    "        x_new = x_new - (f(x_new, r_0_5, r_1, c)-price)/(f_prime(x_new, r_1, c))\n",
    "        print(\"|%.12f|%.12f\\t|\"%(x_new, np.abs(x_new - x_old)))\n",
    "    return x_new"
   ]
  },
  {
   "cell_type": "code",
   "execution_count": 11,
   "metadata": {},
   "outputs": [
    {
     "name": "stdout",
     "output_type": "stream",
     "text": [
      "\n",
      "3-year zero rate - Newton's method\n",
      "\n",
      "|Estimation\t|Tolerance\t|\n",
      "---------------------------------\n",
      "|0.042024991241|0.007975008759\t|\n",
      "|0.042117591115|0.000092599874\t|\n",
      "|0.042117603801|0.000000012686\t|\n",
      "=================================\n",
      "\n",
      "r(0, 1.5) = 0.0475566011775\n",
      "r(0, 2) = 0.0457436020521\n",
      "r(0, 2.5) = 0.0439306029267\n",
      "r(0, 3) = 0.0421176038014\n"
     ]
    }
   ],
   "source": [
    "r_0_5 = 0.05063561596858\n",
    "r_1 = 0.04936960030281\n",
    "coupon_payment = 2.5\n",
    "price = 102\n",
    "x0 = 0.05\n",
    "tol = 1e-6\n",
    "print(\"\\n3-year zero rate - Newton's method\")\n",
    "print (\"\\n|Estimation\\t|Tolerance\\t|\")\n",
    "print (\"---------------------------------\")\n",
    "r_3 = bootstrap_three_yr(r_0_5, r_1, coupon_payment, price, x0, tol)\n",
    "\n",
    "r_1_5 = r_3/4 + 3*r_1/4\n",
    "r_2 = (r_3 + r_1)/2\n",
    "r_2_5 = 3*r_3/4 + r_1/4\n",
    "print (\"=================================\")\n",
    "print (\"\\nr(0, 1.5) = \" + str(r_1_5))\n",
    "print (\"r(0, 2) = \" + str(r_2))\n",
    "print (\"r(0, 2.5) = \" + str(r_2_5))\n",
    "print (\"r(0, 3) = \" + str(r_3))"
   ]
  },
  {
   "cell_type": "markdown",
   "metadata": {},
   "source": [
    "For the 5-year bond, the equation is:\n",
    "\n",
    "\\begin{align}\n",
    "104 =& 3e^{-0.5r(0,0.5)}\\\\ \n",
    "&+ 3e^{-r(0,1)}\\\\ \n",
    "&+ 3e^{-1.5r(0,1.5)} + 3e^{-2r(0,2)}\\\\ \n",
    "&+ 3e^{-2.5r(0,2.5)} + 3e^{-3r(0,3)}\\\\ \n",
    "&+ 3e^{-3.5r(0,3.5)} + 3e^{-4r(0,4)}\\\\ \n",
    "&+ 3e^{-4.5r(0,4.5)}\\\\ \n",
    "&+ 103e^{-5r(0,5)}\\\\ \n",
    "\\end{align}"
   ]
  },
  {
   "cell_type": "markdown",
   "metadata": {},
   "source": [
    "Assuming rates are linear in the t=[3,5] interval and therefore:\n",
    "\n",
    "\\begin{align}\n",
    "r(0,t) = \\left(\\frac{t-3}{2}\\right)r(0,5) + \\left(\\frac{5-t}{2}\\right)r(0,3) &&\\forall 3\\leq t\\leq 5\\\\\n",
    "\\end{align}\n",
    "\n",
    "The resulting interpolated rates are:\n",
    "\n",
    "\\begin{align}\n",
    "r(0,3.5) = \\frac{1}{4}r(0,5) + \\frac{3}{4}r(0,3);\\\\\n",
    "r(0,4) = \\frac{1}{2}(r(0,5) + r(0,3));\\\\\n",
    "r(0,4.5) = \\frac{3}{4}r(0,5) + \\frac{1}{4}r(0,3);\\\\ \n",
    "\\end{align}"
   ]
  },
  {
   "cell_type": "markdown",
   "metadata": {},
   "source": [
    "We can solve the resulting non-linear equation using the Newton's method once more:\n",
    "\n",
    "\\begin{align}\n",
    "104 =& 3e^{-0.5r(0,0.5)}\\\\ \n",
    "&+ 3e^{-r(0,1)}\\\\ \n",
    "&+ 3e^{-1.5r(0,1.5)} + 3e^{-2r(0,2)}\\\\ \n",
    "&+ 3e^{-2.5r(0,2.5)} + 3e^{-3r(0,3)}\\\\ \n",
    "&+ 3e^{-3.5(\\frac{1}{4}x + \\frac{3}{4}r(0,3))}\\\\ \n",
    "&+ 3e^{-2(x + r(0,3))}\\\\ \n",
    "&+ 3e^{-4.5(\\frac{3}{4}x + \\frac{1}{4}r(0,3))}\\\\ \n",
    "&+ 103e^{-5x}\\\\\n",
    "\\end{align}"
   ]
  },
  {
   "cell_type": "code",
   "execution_count": 12,
   "metadata": {},
   "outputs": [],
   "source": [
    "def f(x, r_0_5, r_1, r_1_5, r_2, r_2_5, r_3, c):\n",
    "    t1 = c*np.exp(-0.5*r_0_5)\n",
    "    t2 = c*np.exp(-r_1)\n",
    "    t3 = c*np.exp(-1.5*r_1_5)\n",
    "    t4 = c*np.exp(-2*r_2)\n",
    "    t5 = c*np.exp(-2.5*r_2_5)\n",
    "    t6 = c*np.exp(-3*r_3) \n",
    "    t7 = c*np.exp(-3.5*((x/4) + ((3*r_3)/4)))\n",
    "    t8 = c*np.exp(-2*(x + r_3))\n",
    "    t9 = c*np.exp(-4.5*(((3*x)/4) + (r_3/4)))\n",
    "    t10 = (100 + c)*np.exp(-5*x)\n",
    "    return t1 + t2 + t3 + t4 + t5 + t6 + t7 + t8 + t9 + t10\n",
    "\n",
    "def f_prime(x, r_3, c):\n",
    "    t1 = -(c*3.5/4)*np.exp(-3.5*((x/4) + ((3*r_3)/4)))\n",
    "    t2 = -(c*2)*np.exp(-2*(x + r_3))\n",
    "    t3 = -(c*4.5*3/4)*np.exp(-4.5*(((3*x)/4) + (r_3/4)))\n",
    "    t4 = -(100 + c)*5*np.exp(-5*x)\n",
    "    return t1 + t2 + t3 + t4    \n",
    "\n",
    "def bootstrap_five_yr(r_0_5, r_1, r_1_5, r_2, r_2_5, r_3, c, price, x0, tol):\n",
    "    x_new = x0\n",
    "    x_old = 0\n",
    "    while np.abs(x_new - x_old) > tol:\n",
    "        x_old = x_new\n",
    "        ratio = (f(x_new, r_0_5, r_1, r_1_5, r_2, r_2_5, r_3, c)-price)\\\n",
    "                 /(f_prime(x_new, r_3, c))\n",
    "        x_new = x_new - ratio\n",
    "        print(\"|%.12f|%.12f\\t|\"%(x_new, np.abs(x_new - x_old)))\n",
    "    return x_new"
   ]
  },
  {
   "cell_type": "code",
   "execution_count": 13,
   "metadata": {},
   "outputs": [
    {
     "name": "stdout",
     "output_type": "stream",
     "text": [
      "5-year zero rate - Newton's method\n",
      "\n",
      "|Estimation\t|Tolerance\t|\n",
      "---------------------------------\n",
      "|0.050823921793|0.000823921793\t|\n",
      "|0.050825592823|0.000001671029\t|\n",
      "|0.050825592829|0.000000000007\t|\n"
     ]
    }
   ],
   "source": [
    "r_0_5 = 0.05063561596858\n",
    "r_1 = 0.04936960030281\n",
    "r_1_5 = 0.0475566011775\n",
    "r_2 = 0.0457436020521\n",
    "r_2_5 = 0.0439306029267\n",
    "r_3 = 0.0421176038014\n",
    "coupon_payment = 3\n",
    "price = 104\n",
    "x0 = 0.05\n",
    "tol = 1e-6\n",
    "print(\"5-year zero rate - Newton's method\")\n",
    "print (\"\\n|Estimation\\t|Tolerance\\t|\")\n",
    "print (\"---------------------------------\")\n",
    "r_5 = bootstrap_five_yr(r_0_5, r_1, r_1_5, r_2, r_2_5, r_3, coupon_payment, price, x0, tol)"
   ]
  },
  {
   "cell_type": "code",
   "execution_count": 14,
   "metadata": {},
   "outputs": [
    {
     "name": "stdout",
     "output_type": "stream",
     "text": [
      "\n",
      "r(0, 3.5) = 0.0442946010584\n",
      "r(0, 4) = 0.0464715983154\n",
      "r(0, 4.5) = 0.0486485955724\n",
      "r(0, 5) = 0.0508255928295\n"
     ]
    }
   ],
   "source": [
    "r_3_5 = r_5/4 + 3*r_3/4\n",
    "r_4 = (r_5 + r_3)/2\n",
    "r_4_5 = 3*r_5/4 + r_3/4\n",
    "\n",
    "print (\"\\nr(0, 3.5) = \" + str(r_3_5))\n",
    "print (\"r(0, 4) = \" + str(r_4))\n",
    "print (\"r(0, 4.5) = \" + str(r_4_5))\n",
    "print (\"r(0, 5) = \" + str(r_5))"
   ]
  },
  {
   "cell_type": "code",
   "execution_count": 15,
   "metadata": {},
   "outputs": [
    {
     "data": {
      "image/png": "[encoded data removed]",
      "text/plain": [
       "<matplotlib.figure.Figure at 0x19b8281d940>"
      ]
     },
     "metadata": {},
     "output_type": "display_data"
    }
   ],
   "source": [
    "import matplotlib.pyplot as plt\n",
    "\n",
    "t = [0, 0.5, 1, 1.5, 2, 2.5, 3, 3.5, 4, 4.5, 5]\n",
    "r = [0.05, r_0_5, r_1, r_1_5, r_2, r_2_5, r_3, r_3_5, r_4, r_4_5, r_5]\n",
    "plt.plot(t, r, 'ro')\n",
    "plt.xlabel(\"Years\")\n",
    "plt.ylabel(\"Interest rate\")\n",
    "plt.axis([0, 5.5, 0.04, 0.055])\n",
    "plt.grid(True)\n",
    "for a,b in zip(t, r): \n",
    "    plt.text(a, b + 0.001, \"{:.2%}\".format(b))\n",
    "plt.show()"
   ]
  },
  {
   "cell_type": "markdown",
   "metadata": {},
   "source": [
    "---------------------------------------------------------------------------------------\n",
    "**5. Compute the quadratic Taylor approximation of the function $e^{(x+1)^2}$ around the points 0, -1, and 1, respectively.** \n",
    "\n",
    "The quadratic Taylor approximation around a point $a$ of a function has the form\n",
    "$$f(x) \\approx f(a) + (x - a)f'(a) + \\frac{(x -a)^2}{2}f''(a)$$\n",
    "and therefore we need to find $f'(x)$ and $f''(x)$ and evaluate the resulting functions in point $a$\n",
    "\n",
    "\\begin{align}\n",
    "f'(x) = 2(x+1)e^{(x+1)^2} &&\\tag{Chain rule}\n",
    "\\end{align}\n",
    "\n",
    "\\begin{align}\n",
    "f''(x) &= 4(x+1)^2e^{(x+1)^2} + 2e^{(x+1)^2} &&\\tag{Product rule}\\\\\n",
    "&= 2e^{(x+1)^2}(2(x+1)^2 + 1)\\\\\n",
    "&= (4x^2 + 8x + 6)e^{(x+1)^2} &&\\tag{Simplify}\\\\\n",
    "\\end{align}"
   ]
  },
  {
   "cell_type": "markdown",
   "metadata": {},
   "source": [
    "As a result, for the points given, the quadratic Taylor approximation is:\n",
    "\n",
    "\\begin{align}\n",
    "f(x_{a=0}) &\\approx e + (x)(2e) + (x^2)(3e)\\\\ \n",
    "f(x_{a=1}) &\\approx e^4 + (x-1)(4e^4) + ((x-1)^2)(9e^4)\\\\ \n",
    "f(x_{a=-1}) &\\approx 1 + ((x+1)^2)\\\\ \n",
    "\\end{align}"
   ]
  },
  {
   "cell_type": "markdown",
   "metadata": {},
   "source": [
    "![f(0)](5_1.png \"f(0)\")\n",
    "![f(1)](5_2.png \"f(1)\")\n",
    "![f(-1)](5_3.png \"f(-1)\")"
   ]
  },
  {
   "cell_type": "markdown",
   "metadata": {},
   "source": [
    "---------------------------------------------------------------------------------------\n",
    "**6. Write the second order Taylor approximations of the function $f(x) = xN(x)$ around the point $a = 1$. Here, $N(x)$ is the cumulative density of the standard normal variable. Use the fact that $N(1) = 0.8413$.**\n",
    "\n",
    "$$f(x_{a=1}) \\approx f(1) + (x - 1)f'(1) + \\frac{(x - 1)^2}{2}f''(1)$$\n",
    "where \n",
    "\n",
    "\\begin{align}\n",
    "f'(x) = xN'(x) + N(x); &&N'(x) = \\frac{1}{\\sqrt{2\\pi}}e^{\\frac{-x^2}{2}}\\\\\n",
    "\\end{align}\n",
    "\n",
    "\\begin{align}\n",
    "f'(1) = \\frac{1}{\\sqrt{2\\pi}}e^{-\\frac{1}{2}} + 0.8413 \\approx 0.24197 + 0.8413 \\approx 1.08327\\\\\n",
    "\\end{align}\n",
    "\n",
    "\\begin{align}\n",
    "f''(x) = xN''(x) + 2N'(x); && N'(x) = \\frac{1}{\\sqrt{2\\pi}}e^{\\frac{-x^2}{2}}; && N''(x) = -\\frac{1}{\\sqrt{2\\pi}}xe^{\\frac{-x^2}{2}}\n",
    "\\end{align}\n",
    "\n",
    "\\begin{align}\n",
    "f''(1) = -\\frac{1}{\\sqrt{2\\pi}}e^{-\\frac{1}{2}} + 2(\\frac{1}{\\sqrt{2\\pi}}e^{-\\frac{1}{2}}) \\approx 0.24197\n",
    "\\end{align}\n",
    "\n",
    "$$f(x_{a=1}) \\approx 0.8413 + (x - 1)(1.08237) + \\frac{(x - 1)^2}{2}0.24197$$\n",
    "\n",
    "We see that $f(1) = 0.8413$ as expected, other numerical approximations using the algorithm in Table 3.1 of the textbook are shown for reference:\n",
    "$$f(1.1)_{taylor} \\approx 0.8413 + (0.1)(1.08237) + \\frac{(0.1)^2}{2}0.24197 \\approx 0.95074685$$\n",
    "$$f(0.8)_{taylor} \\approx 0.8413 + (-0.2)(1.08237) + \\frac{(-0.2)^2}{2}0.24197 \\approx 0.6296654$$\n"
   ]
  },
  {
   "cell_type": "code",
   "execution_count": 16,
   "metadata": {},
   "outputs": [
    {
     "name": "stdout",
     "output_type": "stream",
     "text": [
      "f(1.1) = 0.950767288522\n",
      "relative error for f(1.1) = 0.00215%\n",
      "f(0.8) = 0.630515733068\n",
      "relative error for f(0.8) = 0.13486%\n"
     ]
    }
   ],
   "source": [
    "x1 = 1.1\n",
    "x2 = 0.8\n",
    "f_x1_taylor = 0.95074685\n",
    "f_x2_taylor = 0.6296654\n",
    "\n",
    "N_x1 = cdf_normal(1.1)\n",
    "N_x2 = cdf_normal(0.8)\n",
    "\n",
    "f_x1 = x1*N_x1\n",
    "f_x2 = x2*N_x2\n",
    "\n",
    "error1 = np.abs(f_x1_taylor - f_x1)/f_x1\n",
    "error2 = np.abs(f_x2_taylor - f_x2)/f_x2\n",
    "\n",
    "print(\"f(1.1) = \" + str(f_x1))\n",
    "print(\"relative error for f(1.1) = \" + \"{:.5%}\".format(error1))\n",
    "print(\"f(0.8) = \" + str(f_x2))\n",
    "print(\"relative error for f(0.8) = \" + \"{:.5%}\".format(error2))"
   ]
  },
  {
   "cell_type": "markdown",
   "metadata": {},
   "source": [
    "---------------------------------------------------------------------------------------\n",
    "**7. Consider an ATM call option with strike 40 on an asset with volatility 30% and paying 1% dividends continuously. \n",
    "Assume that the interest rates are constant at 3%. Compute the relative approximation error of the approximation \n",
    "$$C_{approx,r \\neq 0,q \\neq 0}= \\sigma S \\sqrt{\\frac{T}{2\\pi}}\\left(1 - \\frac{(r+q)T}{2}\\right) + \\frac{(r-q)T}{2}S,$$\n",
    "if the call option expires in 1, 3, 5, 10, and 20 years.**\n"
   ]
  },
  {
   "cell_type": "code",
   "execution_count": 17,
   "metadata": {},
   "outputs": [],
   "source": [
    "def atm_call_approx(S, K, T, sigma, r, q):\n",
    "    return sigma*S*np.sqrt(T/(2*np.pi))*(1 - ((r+q)*T)/2) + ((r-q)*T*S)/2\n",
    "\n",
    "def call(S, K, T, sigma, r, q):\n",
    "    d1 = (np.log(S/K) + (r - q + sigma**2/2)*T)/(sigma*np.sqrt(T))\n",
    "    d2 = d1 - sigma*np.sqrt(T)\n",
    "    return S*np.exp(-q*T)*cdf_normal(d1) - K*np.exp(-r*T)*cdf_normal(d2)\n"
   ]
  },
  {
   "cell_type": "code",
   "execution_count": 18,
   "metadata": {},
   "outputs": [
    {
     "name": "stdout",
     "output_type": "stream",
     "text": [
      "\n",
      "|Time\t|ATM approx.\t\t|Exact formula\t\t|Relative error (%)\t|\n",
      "---------------------------------------------------------------------------------\n",
      "|1\t|5.091561217520848\t|5.077603102033841\t|0.002748957570436\t|\n",
      "|3\t|8.994348012073328\t|8.906051677920289\t|0.009914195127785\t|\n",
      "|5\t|11.634270227224965\t|11.431348835167864\t|0.017751307827544\t|\n",
      "|10\t|16.111036105696769\t|15.530661321125221\t|0.037369611800246\t|\n",
      "|20\t|20.845693636299949\t|19.517216630825626\t|0.068066929347708\t|\n",
      "---------------------------------------------------------------------------------\n"
     ]
    }
   ],
   "source": [
    "S = 40\n",
    "K = 40\n",
    "sigma = 0.3\n",
    "q = 0.01\n",
    "r = 0.03\n",
    "T = [1, 3, 5, 10, 20]\n",
    "\n",
    "print (\"\\n|Time\\t|ATM approx.\\t\\t|Exact formula\\t\\t|Relative error (%)\\t|\")\n",
    "print (\"---------------------------------------------------------------------------------\")\n",
    "for time in T:\n",
    "    approx = atm_call_approx(S, K, time, sigma, r, q)\n",
    "    exact = call(S, K, time, sigma, r, q)\n",
    "    relative_error = (approx - exact)/exact\n",
    "    print(\"|%d\\t|%.15f\\t|%.15f\\t|%.15f\\t|\"%(time, approx, exact, relative_error))\n",
    "print (\"---------------------------------------------------------------------------------\")"
   ]
  },
  {
   "cell_type": "markdown",
   "metadata": {},
   "source": [
    "---------------------------------------------------------------------------------------\n",
    "**8. Denote by $F = Se^{(r−q)T}$ the forward price corresponding to time $T$ of an asset with spot price $S$ at time $t$, paying dividends continuously at the rate $q$.**\n",
    "\n",
    "**(i) Show that the Black–Scholes formulas can be written in terms of the forward price as follows:\n",
    "$$C(S, t) = Ke^{−rT}\\left(\\frac{F}{K}N(d_1)-N(d_2)\\right);$$\n",
    "$$P(S, t) = Ke^{−rT}\\left(N(-d_2) - \\frac{F}{K}N(-d_1)\\right),$$\n",
    "where** \n",
    "\n",
    "\\begin{align}\n",
    "d_1 = \\frac{ln\\left(\\frac{F}{K}\\right)}{\\sigma \\sqrt{T}} + \\frac{\\sigma \\sqrt{T}}{2}; && d_2 = \\frac{ln\\left(\\frac{F}{K}\\right)}{\\sigma \\sqrt{T}} - \\frac{\\sigma \\sqrt{T}}{2} \\\\     \n",
    "\\end{align}"
   ]
  },
  {
   "cell_type": "markdown",
   "metadata": {},
   "source": [
    "The values of $d_1$ and $d_2$ are determined from the corresponding values in the European option formula:\n",
    "\n",
    "\\begin{align}\n",
    "d_1 &= \\frac{ln{\\frac{S}{K}} + (r-q+\\frac{\\sigma^2}{2})T}{\\sigma \\sqrt{T}}\\\\\n",
    "&= \\frac{ln{\\frac{F}{Ke^{(r-q)T}}} + (r-q+\\frac{\\sigma^2}{2})T}{\\sigma \\sqrt{T}} \\tag{$F = Se^{(r-q)T}$}\\\\\n",
    "&= \\frac{ln(F) - ln(K) - ln(e^{(r-q)T})  + (r-q+\\frac{\\sigma^2}{2}T)}{\\sigma \\sqrt{T}} \\tag{ln properties}\\\\\n",
    "&= \\frac{ln(F) - ln(K) -(r-q)T  + (r-q+\\frac{\\sigma^2}{2}T)}{\\sigma \\sqrt{T}} \\tag{$ln(e^{x}) = x$}\\\\\n",
    "&= \\frac{ln(\\frac{F}{K}) + (\\frac{\\sigma^2}{2}T)}{\\sigma \\sqrt{T}} \\tag{Simplify}\\\\\n",
    "&= \\frac{ln(\\frac{F}{K})}{\\sigma \\sqrt{T}} + \\frac{\\sigma \\sqrt{T}}{2} \\tag{Simplify}\\\\\n",
    "&= d_{1, forward}\\\\\n",
    "\\\\\n",
    "d_2 &= d_1 - \\sigma \\sqrt{T}\\\\\n",
    "&= \\frac{ln(\\frac{F}{K})}{\\sigma \\sqrt{T}} + \\frac{\\sigma \\sqrt{T}}{2} - \\sigma \\sqrt{T} \\tag{Def. $d_{1, forward}$}\\\\\n",
    "&= \\frac{ln(\\frac{F}{K})}{\\sigma \\sqrt{T}} - \\frac{\\sigma \\sqrt{T}}{2} \\tag{Simplify}\\\\\n",
    "&= d_{2, forward}\n",
    "\\end{align}"
   ]
  },
  {
   "cell_type": "markdown",
   "metadata": {},
   "source": [
    "Starting from the Black-Scholes formula for European call options:\n",
    "\n",
    "\\begin{align}\n",
    "C(S,t) &= Se^{-qT}N(d_1) - Ke^{-rT}N(d_2)\\\\\n",
    "&= Ke^{-rT}\\left(\\frac{Se^{-qT}}{Ke^{-rT}}N(d_1) - N(d_2)\\right) \\tag{Factorize $Ke^{-rT}$}\\\\\n",
    "&= Ke^{-rT}\\left(\\frac{Fe^{-qT}}{Ke^{-rT}e^{(r-q)T}}N(d_1) - N(d_2)\\right) \\tag{$F = Se^{(r-q)T}$}\\\\\n",
    "&= Ke^{-rT}\\left(\\frac{F}{K}N(d_1) - N(d_2)\\right) \\tag{Simplify}\\\\\n",
    "&= C(S,t)_{forward}\n",
    "\\end{align}"
   ]
  },
  {
   "cell_type": "markdown",
   "metadata": {},
   "source": [
    "Starting from the Black-Scholes formula for European put options:\n",
    "\n",
    "\\begin{align}\n",
    "P(S,t) &= Ke^{-rT}N(-d_2) - Se^{-qT}N(-d_1)\\\\\n",
    "&= Ke^{-rT}\\left(N(-d_2) - \\frac{Se^{-qT}}{Ke^{-rT}}N(-d_1)\\right) \\tag{Factorize $Ke^{-rT}$}\\\\\n",
    "&= Ke^{-rT}\\left(N(-d_2) - \\frac{Fe^{-qT}}{Ke^{-rT}e^{(r-q)T}}N(-d_1)\\right) \\tag{$F = Se^{(r-q)T}$}\\\\\n",
    "&= Ke^{-rT}\\left(N(-d_2) - \\frac{F}{K}N(-d_1)\\right) \\tag{Simplify}\\\\\n",
    "&= P(S,t)_{forward}\n",
    "\\end{align}"
   ]
  },
  {
   "cell_type": "markdown",
   "metadata": {},
   "source": [
    "**(ii) Show that the values of the at the money forward call and put options are equal; an at the money forward option is struck at the forward price, i.e., $K = F = Se^{(r−q)(T −t)}$.**"
   ]
  },
  {
   "cell_type": "markdown",
   "metadata": {},
   "source": [
    "\\begin{align}\n",
    "C(S,t)_{forward} = &Ke^{-rT}\\left(\\frac{F}{K}N(d_1) - N(d_2)\\right)\\\\\n",
    "&= Se^{(r-q)T} e^{-rT}\\times\\\\\n",
    "&\\left(N\\left(\\frac{\\sigma\\sqrt{T}}{2}\\right) - N\\left(-\\frac{\\sigma\\sqrt{T}}{2}\\right) \\right) \\tag{$K = F = Se^{(r−q)T}$}\\\\\n",
    "&= Se^{-qT}\\left(N\\left(\\frac{\\sigma\\sqrt{T}}{2}\\right) - N\\left(-\\frac{\\sigma\\sqrt{T}}{2}\\right)\\right) \\tag{Simplify}\\\\\n",
    "&= Se^{-qT}\\left(2N\\left(\\frac{\\sigma\\sqrt{T}}{2}\\right) - 1\\right) \\tag{$N(-a) = 1 - N(a)$}\\\\\n",
    "\\\\\n",
    "P(S,t)_{forward} &= Ke^{-rT}\\left(N(-d_2) - \\frac{F}{K}N(-d_1)\\right)\\\\\n",
    "&= Se^{-qT}\\left(N\\left(\\frac{\\sigma\\sqrt{T}}{2}\\right) - N\\left(-\\frac{\\sigma\\sqrt{T}}{2}\\right)\\right) \\tag{$K = F = Se^{(r−q)T}$}\\\\\n",
    "&= Se^{-qT}\\left(2N\\left(\\frac{\\sigma\\sqrt{T}}{2}\\right) - 1\\right) \\tag{$N(-a) = 1 - N(a)$}\\\\\n",
    "&= C(S,t)_{forward}\n",
    "\\end{align}"
   ]
  },
  {
   "cell_type": "markdown",
   "metadata": {},
   "source": [
    "**(iii) Find an approximation formula for the value of at the money forward call and put options.**  "
   ]
  },
  {
   "cell_type": "markdown",
   "metadata": {},
   "source": [
    "The first-degree Taylor approximation for the normal cumulative distribution function close to point a=0 is:\n",
    "\n",
    "\\begin{align}\n",
    "N(x) \\approx N(0) + N'(0) \\approx \\frac{1}{2} + \\frac{x}{\\sqrt{2\\pi}} \n",
    "\\end{align}\n",
    "\n",
    "Since, in normal situations, the factor $\\frac{\\sigma\\sqrt{T}}{2}$ is close to zero, we can use the above to find an approximate value:\n",
    "\n",
    "\\begin{align}\n",
    "N\\left(\\frac{\\sigma\\sqrt{T}}{2\\sqrt{2\\pi}}\\right) \\approx \\frac{1}{2} + \\frac{\\sigma\\sqrt{T}}{2\\sqrt{2\\pi}} \n",
    "\\end{align}\n",
    "\n",
    "Therefore, for the ATM call and put forward option values:\n",
    "\n",
    "\\begin{align}\n",
    "C(S,t)_{forward} = P(S,t)_{forward} &= Se^{-qT}\\left(2N\\left(\\frac{\\sigma\\sqrt{T}}{2}\\right) - 1\\right)\\\\\n",
    "&\\approx Se^{-qT}\\left(2\\left(\\frac{1}{2} + \\frac{\\sigma\\sqrt{T}}{2\\sqrt{2\\pi}}\\right) - 1\\right)\\\\\n",
    "&\\approx Se^{-qT}\\left(\\frac{\\sigma\\sqrt{T}}{\\sqrt{2\\pi}}\\right)\\\\\n",
    "&\\approx 0.4Se^{-qT}\\sigma\\sqrt{T}\\\\\n",
    "\\end{align}\n"
   ]
  }
 ],
 "metadata": {
  "kernelspec": {
   "display_name": "Python 3",
   "language": "python",
   "name": "python3"
  },
  "language_info": {
   "codemirror_mode": {
    "name": "ipython",
    "version": 3
   },
   "file_extension": ".py",
   "mimetype": "text/x-python",
   "name": "python",
   "nbconvert_exporter": "python",
   "pygments_lexer": "ipython3",
   "version": "3.6.1"
  }
 },
 "nbformat": 4,
 "nbformat_minor": 2
}
