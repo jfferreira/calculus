{
 "cells": [
  {
   "cell_type": "markdown",
   "metadata": {},
   "source": [
    "# Advanced Calculus with Financial Engineering Applications \n",
    "# Homework 6\n",
    "### *Jose Ferreira*\n",
    "----------------------------\n",
    "\n",
    "**(7) The yield of a two year quarterly coupon bond with coupon rate 8% is 9%.**\n",
    "\n",
    "**(i) What are the price B, duration D, and convexity C of the bond?**"
   ]
  },
  {
   "cell_type": "code",
   "execution_count": 10,
   "metadata": {
    "collapsed": true
   },
   "outputs": [],
   "source": [
    "import numpy as np\n",
    "\n",
    "def bond_price_duration_convexity(yield_k, cf_times, cf_values, freq):\n",
    "    n = np.minimum(len(cf_times), len(cf_values))\n",
    "    B = 0\n",
    "    D = 0\n",
    "    C = 0\n",
    "    for i in range(0, n):\n",
    "        B = B + cf_values[i]*(1+(yield_k/freq))**(-freq*cf_times[i])\n",
    "        D = D + cf_times[i]\\\n",
    "                *cf_values[i]\\\n",
    "                *(1+(yield_k/freq))**(-freq*cf_times[i]-1)\n",
    "        C = C + cf_times[i]\\\n",
    "                *cf_values[i]\\\n",
    "                *(cf_times[i] + 1/freq)\\\n",
    "                *(1+(yield_k/freq))**(-freq*cf_times[i]-2)\n",
    "    return B, D/B, C/B"
   ]
  },
  {
   "cell_type": "code",
   "execution_count": 4,
   "metadata": {},
   "outputs": [
    {
     "name": "stdout",
     "output_type": "stream",
     "text": [
      "=================================================\n",
      "Price = 98.18820384835145\n",
      "Modified Duration = 1.8254526399515039\n",
      "Convexity = 3.9232460429683447\n"
     ]
    }
   ],
   "source": [
    "t_cf = [0.25, 0.5, 0.75, 1, 1.25, 1.5, 1.75, 2]\n",
    "v_cf = [2, 2, 2, 2, 2, 2, 2, 102]\n",
    "freq = 4\n",
    "yld = 0.09\n",
    "\n",
    "print (\"=================================================\")\n",
    "B, D, C = bond_price_duration_convexity(yld, t_cf, v_cf, freq)\n",
    "print (\"Price = \" + str(B))\n",
    "print (\"Modified Duration = \" + str(D))\n",
    "print (\"Convexity = \" + str(C))"
   ]
  },
  {
   "cell_type": "markdown",
   "metadata": {},
   "source": [
    "**(ii) Use both the formula\n",
    "$$\\frac{B_{new, D}-B}{B}=\\frac{\\Delta B}{B}\\approx -D\\Delta y$$\n",
    "which does not include any convexity adjustment, and the formula \n",
    "$$\\frac{B_{new, D, C}-B}{B}=\\frac{\\Delta B}{B}\\approx -D\\Delta y + \\frac{1}{2}C(\\Delta y)^2$$\n",
    "to find an approximate price of the bond if the yield increases by ten basis points (i.e. 0.001), fifty basis points, one percent, two percent and four percent respectively. \n",
    "Also, for each different value of the yield change, compute the actual price $B(y + \\Delta y)$ of the bond."
   ]
  },
  {
   "cell_type": "markdown",
   "metadata": {},
   "source": [
    "We can calculate the new prices with the following equations:\n",
    "$$B_{new,D} = B(1-D\\Delta y)$$\n",
    "$$B_{new,D, C} = B(1-D\\Delta y + \\frac{1}{2}C(\\Delta y)^2)$$"
   ]
  },
  {
   "cell_type": "code",
   "execution_count": 5,
   "metadata": {},
   "outputs": [
    {
     "name": "stdout",
     "output_type": "stream",
     "text": [
      "[-0.00182545 -0.00912726 -0.01825453 -0.03650905 -0.07301811]\n"
     ]
    }
   ],
   "source": [
    "yield_deltas = np.array([0.001, 0.005, 0.01, 0.02, 0.04])\n",
    "duration_price_change = -D*yield_deltas\n",
    "print(duration_price_change)"
   ]
  },
  {
   "cell_type": "code",
   "execution_count": 6,
   "metadata": {},
   "outputs": [
    {
     "name": "stdout",
     "output_type": "stream",
     "text": [
      "[ 98.00896593  97.29201427  96.39582469  94.60344553  91.01868721]\n"
     ]
    }
   ],
   "source": [
    "B_new_D = B*(1+duration_price_change)\n",
    "print(B_new_D)"
   ]
  },
  {
   "cell_type": "code",
   "execution_count": 7,
   "metadata": {},
   "outputs": [
    {
     "name": "stdout",
     "output_type": "stream",
     "text": [
      "[  1.96162302e-06   4.90405755e-05   1.96162302e-04   7.84649209e-04\n",
      "   3.13859683e-03]\n"
     ]
    }
   ],
   "source": [
    "convexity_price_change = (C/2)*(yield_deltas**2)\n",
    "print(convexity_price_change)"
   ]
  },
  {
   "cell_type": "code",
   "execution_count": 8,
   "metadata": {},
   "outputs": [
    {
     "name": "stdout",
     "output_type": "stream",
     "text": [
      "[ 98.00915854  97.29682947  96.41508551  94.68048883  91.3268604 ]\n"
     ]
    }
   ],
   "source": [
    "B_new_D_C = B*(1 + duration_price_change + convexity_price_change )\n",
    "print(B_new_D_C)"
   ]
  },
  {
   "cell_type": "markdown",
   "metadata": {},
   "source": [
    "As for $B(y + \\Delta y)$, assuming $\\Delta t$ is small enough to ignore its effect: "
   ]
  },
  {
   "cell_type": "code",
   "execution_count": 9,
   "metadata": {},
   "outputs": [
    {
     "name": "stdout",
     "output_type": "stream",
     "text": [
      "[98.00915838564238, 97.296810148463862, 96.414931416261894, 94.679264192519696, 91.317191355648262]\n"
     ]
    }
   ],
   "source": [
    "actual_price_changes = []\n",
    "for delta in yield_deltas:\n",
    "    B, D, C = bond_price_duration_convexity(yld + delta, t_cf, v_cf, freq)\n",
    "    actual_price_changes.append(B)\n",
    "print(actual_price_changes)"
   ]
  },
  {
   "cell_type": "markdown",
   "metadata": {},
   "source": [
    "\n",
    "| $\\Delta y$ \t| $B_{new, D}$ \t| $B_{new, D, C}$ \t| $B(y + \\Delta y)$) \t|\n",
    "|------------\t|--------------\t|-----------------\t|--------------------\t|\n",
    "| 0.001      \t|98.00896593   \t|98.00915854      \t|98.00915838564238   \t|\n",
    "| 0.005      \t|97.29201427   \t|97.29682947      \t|97.296810148463862  \t|\n",
    "| 0.01       \t|96.39582469   \t|96.41508551      \t|96.414931416261894  \t|\n",
    "| 0.02       \t|94.60344553   \t|94.68048883      \t|94.679264192519696  \t|\n",
    "| 0.04       \t|91.01868721   \t|91.3268604       \t|91.317191355648262  \t|"
   ]
  },
  {
   "cell_type": "markdown",
   "metadata": {},
   "source": [
    "**(iii) For each different value of the yield change considered above, compute the relative approximation errors, i.e.,\n",
    "\\begin{align}\n",
    "\\frac{\\left|B_{new,D} - B(y + \\Delta y)\\right|}{B(y + \\Delta y)} && \\text{and} && \\frac{\\left|B_{new,D,C} - B(y + \\Delta y)\\right|}{B(y + \\Delta y)}\\\\\n",
    "\\end{align}\n",
    "of the approximations above.**"
   ]
  },
  {
   "cell_type": "code",
   "execution_count": 16,
   "metadata": {},
   "outputs": [
    {
     "name": "stdout",
     "output_type": "stream",
     "text": [
      "[  1.96362484e-06   4.92912331e-05   1.98171869e-04   8.00794803e-04\n",
      "   3.26887128e-03]\n"
     ]
    }
   ],
   "source": [
    "only_duration_error = np.abs(B_new_D - actual_price_changes)/actual_price_changes\n",
    "print(only_duration_error)"
   ]
  },
  {
   "cell_type": "code",
   "execution_count": 17,
   "metadata": {},
   "outputs": [
    {
     "name": "stdout",
     "output_type": "stream",
     "text": [
      "[  1.58172057e-09   1.98632205e-07   1.59826831e-06   1.29345506e-05\n",
      "   1.05884130e-04]\n"
     ]
    }
   ],
   "source": [
    "d_c_error = np.abs(B_new_D_C - actual_price_changes)/actual_price_changes\n",
    "print(d_c_error)"
   ]
  },
  {
   "cell_type": "markdown",
   "metadata": {},
   "source": [
    "\n",
    "| $\\Delta y$ \t| $B_{new, D}$ \t| $B_{new, D, C}$ \t| $B(y + \\Delta y)$) \t|$\\frac{\\left|B_{new,D} - B(y + \\Delta y)\\right|}{B(y + \\Delta y)}$ | $\\frac{\\left|B_{new,D,C} - B(y + \\Delta y)\\right|}{B(y + \\Delta y)}$ |\n",
    "|------------\t|--------------\t|-----------------\t|--------------------\t|-------------------------------|-------------------------------|\n",
    "| 0.001      \t|98.00896593   \t|98.00915854      \t|98.00915838564238   \t|1.96362484e-06   \t|1.58172057e-09   \t|\n",
    "| 0.005      \t|97.29201427   \t|97.29682947      \t|97.296810148463862  \t|4.92912331e-05   \t|1.98632205e-07   \t|\n",
    "| 0.01       \t|96.39582469   \t|96.41508551      \t|96.414931416261894  \t|1.98171869e-04   \t|1.59826831e-06   \t|\n",
    "| 0.02       \t|94.60344553   \t|94.68048883      \t|94.679264192519696  \t|8.00794803e-04   \t|1.29345506e-05   \t|\n",
    "| 0.04       \t|91.01868721   \t|91.3268604       \t|91.317191355648262  \t|3.26887128e-03   \t|1.05884130e-04   \t|"
   ]
  },
  {
   "cell_type": "markdown",
   "metadata": {},
   "source": [
    "----------------------------\n",
    "\n",
    "**(8) You invest \\$20 million in a bond with duration 3 and convexity 18 and \\$50 million in a bond with duration 4 and convexity 20.**\n",
    "\n",
    "**(i) What are the dollar duration and dollar convexity of your portfolio?**"
   ]
  },
  {
   "cell_type": "markdown",
   "metadata": {},
   "source": [
    "$D_{\\$}(V) = B_1 D_1 + B_2 D_2 = \\$20.000.000 \\times 3 + \\$50.000.000 \\times 4 = \\$260.000.000$   \n",
    "$C_{\\$}(V) = B_1 C_1 + B_2 C_2 = \\$20.000.000 \\times 18 + \\$50.000.000 \\times 20 = \\$1,360.000.000$ "
   ]
  },
  {
   "cell_type": "markdown",
   "metadata": {},
   "source": [
    "**(ii) If the yield curve moves up by 25 bps, find an approximate value of the portfolio**"
   ]
  },
  {
   "cell_type": "markdown",
   "metadata": {},
   "source": [
    "The change in the value of the portfolio can be approximated as:\n",
    "\n",
    "$\\Delta V \\approx -D_{\\$}(V)\\delta r + \\frac{C_{\\$}(V)}{2}(\\delta r)^2$\n",
    "\n",
    "For $\\delta r = 0.0025$:\n",
    "\n",
    "$\\Delta V \\approx -\\$260.000.000 \\times 0.0025 + \\frac{\\$1,360.000.000}{2}(0.0025)^2$\n",
    "\n",
    "$\\Delta V = -\\$650.000 + \\$4.250 = -\\$645.750$\n"
   ]
  },
  {
   "cell_type": "markdown",
   "metadata": {},
   "source": [
    "**(iii) You can buy or sell two other bonds, one with duration 2 and convexity 7 and another one with duration 4 and convexity 11. What positions could you take in these bonds to immunize your portfolio (i.e. to obtain a portfolio with zero dollar duration and dollar convexity)?**"
   ]
  },
  {
   "cell_type": "markdown",
   "metadata": {},
   "source": [
    "Let $\\Pi$ be the value of the immunized portfolio such as $\\Pi = V + B_3 + B_4$, then\n",
    "\n",
    "$D_{\\$}(\\Pi) = D_{\\$}(V) + B_3 D_3 + B_4 D_4$ \n",
    "\n",
    "$D_{\\$}(\\Pi) = \\$260.000.000 + B_3 \\times 2 + B_4 \\times 4$ \n",
    "\n",
    "$C_{\\$}(\\Pi) = C_{\\$}(V) + B_3 C_3 + B_4 C_4$ \n",
    "\n",
    "$C_{\\$}(\\Pi) = \\$1,360.000.000 + B_3 \\times 7 + B_4 \\times 11$ \n",
    "\n",
    "For the portfolio to be immunized, $D_{\\$}(\\Pi) = 0$ and $C_{\\$}(\\Pi) = 0$. The solution to the system of equations is:\n",
    "\\begin{align}\n",
    "B_3 = -\\$430.000.000; && B_4 = \\$150.000.000\\\\\n",
    "\\end{align}\n",
    "\n",
    "Therefore, the immunized portfolio should consist of the following positions:\n",
    "- long \\$20 million in $B_1$;\n",
    "- long \\$50 million in $B_2$;\n",
    "- short \\$430 million in $B_3$;\n",
    "- long \\$150 million in $B_4$;\n",
    "- cash \\$280 million."
   ]
  },
  {
   "cell_type": "markdown",
   "metadata": {},
   "source": [
    "----------------------------\n",
    "\n",
    "**(9) Consider a bond portfolio worth \\$50mil with DV01 equal to \\$10,000 and dollar convexity equal to \\$400mil.**\n",
    "\n",
    "**(i) Assume that the yield curve moves up by fifty basis points. What is the new value of your bond portfolio**"
   ]
  },
  {
   "cell_type": "code",
   "execution_count": null,
   "metadata": {},
   "outputs": [],
   "source": []
  }
 ],
 "metadata": {
  "kernelspec": {
   "display_name": "Python 3",
   "language": "python",
   "name": "python3"
  },
  "language_info": {
   "codemirror_mode": {
    "name": "ipython",
    "version": 3
   },
   "file_extension": ".py",
   "mimetype": "text/x-python",
   "name": "python",
   "nbconvert_exporter": "python",
   "pygments_lexer": "ipython3",
   "version": "3.6.1"
  }
 },
 "nbformat": 4,
 "nbformat_minor": 2
}
